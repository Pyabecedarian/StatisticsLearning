{
 "cells": [
  {
   "cell_type": "markdown",
   "metadata": {},
   "source": [
    "# Day 1\n",
    "\n",
    "### List of terms I learnt\n",
    "\n",
    "- Some basic concepts in Statistics:\n",
    "    - Mean\n",
    "    - Median\n",
    "    - Mode\n",
    "- Box Plot\n",
    "- Population & Sample\n",
    "- Variance & Non-bias Variance of the Sample\n",
    "- Random Variable\n",
    "- PMF & PDF\n",
    "- Binomial Distribution"
   ]
  },
  {
   "cell_type": "markdown",
   "metadata": {},
   "source": [
    "## Basic concepts\n",
    "*These basic measures can somehow, in a certain way, describe the centrial tendency of a sequence of numbers.*"
   ]
  },
  {
   "cell_type": "markdown",
   "metadata": {},
   "source": [
    "#### Mean:  (The arithmetic average of all numbers)\n",
    "\n",
    "- $\\mu = \\frac{1}{m}\\displaystyle \\sum_{i=1\\to m}{x_i}$\n",
    "\n",
    "#### Median: (The num sits in the middle of the sorted sequence of numbers)\n",
    "- if lenght of seq is odd:\n",
    "    - median = the num in the middle\n",
    "- if even:\n",
    "    - median = mean of two nums in the middle\n",
    "\n",
    "#### Mode: (The num presents in largest frequency)"
   ]
  },
  {
   "cell_type": "code",
   "execution_count": 1,
   "metadata": {},
   "outputs": [
    {
     "name": "stdout",
     "output_type": "stream",
     "text": [
      "Mean: 25.666666666666668\n",
      "Median: 25.0\n",
      "Mode:\n",
      " 0    23\n",
      "1    25\n",
      "dtype: int64\n"
     ]
    }
   ],
   "source": [
    "import pandas as pd\n",
    "\n",
    "seq = pd.Series([23, 29, 20, 32, 23, 21, 33, 25, 25])\n",
    "\n",
    "print('Mean:',   seq.mean())     #  a number\n",
    "print('Median:', seq.median())   #  a number\n",
    "print('Mode:\\n',   seq.mode())   #  a Series Object: Cuz mode may happened to be multiple nums in the sequence"
   ]
  },
  {
   "cell_type": "markdown",
   "metadata": {},
   "source": [
    "#### Range:(how large the data spread out)\n",
    "- range = max - min\n",
    "\n",
    "\n",
    "#### Midrange:(mean of max and min)\n",
    "- midRange = mean(max, min)"
   ]
  },
  {
   "cell_type": "markdown",
   "metadata": {},
   "source": [
    "## Box Plot"
   ]
  },
  {
   "cell_type": "markdown",
   "metadata": {},
   "source": [
    "![image.png](./imgs/BoxPlot.png)"
   ]
  },
  {
   "cell_type": "markdown",
   "metadata": {},
   "source": [
    "## Population and Sample"
   ]
  },
  {
   "cell_type": "markdown",
   "metadata": {},
   "source": [
    "**Population:**\n",
    "    - All the possible outcome of an experiment\n",
    "**Sample:**\n",
    "    - Subset of population\n",
    "    \n",
    "Some notation convention:\n",
    "- Mean of Population:  \n",
    "    - $\\mu$\n",
    "- Mean of Sample:\n",
    "    - $\\overline{X}$"
   ]
  },
  {
   "cell_type": "markdown",
   "metadata": {},
   "source": [
    "### Variance\n",
    "*A measure to evaluate the \"dispertion\" or \"how further away the samples spread out with respect to the mean value\"*  \n",
    "$\\displaystyle \\qquad \\sigma^2=\\frac{1}{N}\\sum_{i= 1 \\to N}(x_i-\\mu)^2=\\frac{1}{N}\\sum_{i= 1 \\to N}{x_i^2}-\\mu^2$\n",
    "\n",
    "#### Sample Variance   \n",
    "$\\qquad S^2$\n",
    "#### non-bias Sample Variance   \n",
    "$\\qquad S^2_{n-1}=\\frac{1}{n-1}\\cdot\\displaystyle \\sum_{i= 1 \\to n-1}(x_i-\\overline{X})^2$ \n",
    "\n",
    "### Standard Variance   \n",
    "$\\displaystyle \\qquad \\sigma = \\sqrt{\\sigma^2}$"
   ]
  },
  {
   "cell_type": "markdown",
   "metadata": {},
   "source": [
    "## Random Variable"
   ]
  },
  {
   "cell_type": "markdown",
   "metadata": {},
   "source": [
    "*Random Variable is not a variable, actually is a \"function\" mapping the outcomes of the experiment to another value.*\n",
    "\n",
    "**Two kinds of R.V.:**\n",
    "- ***Discete***\n",
    "    - can only take finite number of values\n",
    "- ***Continuouse***\n",
    "    - contains infinite many possible outcomes\n",
    "\n",
    "\n",
    "### Probability Mass Function:\n",
    "- For discrete case, PMF can be constructed by each possible outcome with it probability\n",
    "    - $P(X = k)=F(k)$\n",
    "    \n",
    "### Probability Dense Function:\n",
    "- For continuouse case, PDF shows the \"likelyhood (not probability!) over which specific value the outcome can take\"\n",
    "    - $P(X = k)=0$\n",
    "    - $P(X \\leq k)= F(k)= \\displaystyle \\int_{-\\infty}^{k}f(x)dx$\n",
    "        - f(x): PDF\n",
    "        - F(x): CDF"
   ]
  },
  {
   "cell_type": "markdown",
   "metadata": {},
   "source": [
    "## Binomial Distribution"
   ]
  },
  {
   "cell_type": "markdown",
   "metadata": {},
   "source": [
    "If the experiment can only have 2 possible outcome, then it can be called \"Bernoulli Experiment\".  \n",
    "The PMF of Bernoulli Distribution:  \n",
    "\n",
    "$\\qquad F(x)=\n",
    "\\begin{cases}\n",
    "p& \\text{if x=1}\\\\\n",
    "1-p& \\text{if x=0}\n",
    "\\end{cases}$\n",
    "\n",
    "If continuously and independently do the Bernoulli Experiment for n times, then the new experiment fits \"Binomial Distribution\".\n",
    "The PMF of Binomial Distribution:  \n",
    "\n",
    "$\\qquad P(X=k)=\\begin {cases}{n \\choose k} p^k (1-p)^{n-k}=\\frac{n!}{k!(n-k)!} \\cdot p^k (1-p)^{n-k} {\\quad if x \\in \\{n\\}} \\\\ \n",
    "0 \\quad { otherwise} \\end {cases}$\n",
    "\n"
   ]
  },
  {
   "cell_type": "code",
   "execution_count": 3,
   "metadata": {},
   "outputs": [
    {
     "data": {
      "image/png": "[encoded data removed]",
      "text/plain": [
       "<Figure size 432x288 with 1 Axes>"
      ]
     },
     "metadata": {
      "needs_background": "light"
     },
     "output_type": "display_data"
    }
   ],
   "source": [
    "# Binomial Distribtion\n",
    "import numpy as np\n",
    "from scipy.special import comb\n",
    "import matplotlib.pyplot as plt\n",
    "\n",
    "def F(k):\n",
    "    global p, n\n",
    "    return comb(n,k) * p**k * (1-p)**(n-k)\n",
    "\n",
    "p = 0.3  # Probability of geting positive outcome\n",
    "n = 20   # NO. of experiments\n",
    "\n",
    "k = np.arange(1, n+1)\n",
    "\n",
    "plt.bar(k, F(k))\n",
    "plt.show()"
   ]
  },
  {
   "cell_type": "markdown",
   "metadata": {},
   "source": [
    "# Day 2"
   ]
  },
  {
   "cell_type": "markdown",
   "metadata": {},
   "source": [
    "What I've learnt\n",
    "- Expected Value: E(X) \n",
    "- $X \\sim B(n, p) \\qquad E(x)=np$\n",
    "- Poisson Distribution and derivation\n",
    "- Law of Large Number\n",
    "- Basis of Gaussian Distribution\n",
    "- Z-score and 68-95-99.7"
   ]
  },
  {
   "cell_type": "markdown",
   "metadata": {},
   "source": [
    "## Expected Value (Expectation)"
   ]
  },
  {
   "cell_type": "markdown",
   "metadata": {},
   "source": [
    "***Expected Value*** : *are essentially the same as arithmetic \"MEAN\", which can be depicted as graviational center of PMF, or probability weighted average.*  \n",
    "\n",
    "- $E(X)=\\displaystyle \\sum_{i=1 \\to n}{p_i \\cdot x_i}$"
   ]
  },
  {
   "cell_type": "markdown",
   "metadata": {},
   "source": [
    "#### Expected Value of Binomial Distribution\n",
    "$E(X) = np$\n",
    "\n",
    "\n",
    "**Derivation:**  \n",
    "\n",
    "$\\begin{align} \\displaystyle  E(x) &=\\sum_{k=0 \\to n}{k \\cdot p_k}  \\\\\n",
    "& = \\sum_{k=1}^n k \\cdot {n \\choose k} p^k (1-p)^{n-k} \\\\\n",
    "& =\\sum_{k=1}^n \\frac {n(n-1)!}{(k-1)!(n-k)!} p^k (1-p)^{n-k}  \\\\\n",
    "& = np\\sum_{k=1}^n \\frac {(n-1)!}{(k-1)!(n-k)!}p^k  (1-p)^{n-k} \\qquad  \\\\\n",
    "& = np \\underbrace {\\sum_{a=0}^b \\frac {b!}{a!(b-a)!}p^a  (1-p)^{b-a}}_{ = \\, 1}  \\\\\n",
    "& = np \\end{align}$  \n",
    "\n",
    "where:  \n",
    "$\\qquad { a = k -1,\\\\\n",
    " b = n - 1}$"
   ]
  },
  {
   "cell_type": "markdown",
   "metadata": {},
   "source": [
    "## Poisson Distribution"
   ]
  },
  {
   "cell_type": "markdown",
   "metadata": {},
   "source": [
    "*Question:  X is # of cars passed in an hour, find E(X)*  \n",
    "\n",
    "*Assumption:*\n",
    "- each car passed independently\n",
    "- the car flow is steady within every interval of time\n",
    "\n",
    "\n",
    "Let  \n",
    "    $\\qquad E(x)=\\lambda=np=x \\cdot\\frac{\\lambda}{x}$  \n",
    "where:  \n",
    "    $\\qquad \\lambda: \\text {average #cars passed in an hour}$  \n",
    "    $\\qquad x: \\text {#time-intervals within a hour}$  \n",
    "    $\\qquad \\frac{\\lambda}{x}: \\text {probability of a car passed in an interval}$  \n",
    "\n",
    "Then the distribution of X obey \"Binomial Distribution\":  \n",
    "$\\begin{align} \\displaystyle  P(X = k) & = \\lim_{x \\to \\infty} {x \\choose k} (\\frac{\\lambda}{x})^k (1-\\frac{\\lambda}{x})^{(x-k)}  \\\\ \n",
    "& =\\lim_{x \\to \\infty} \\frac {x!}{k!(x-k)!}\\frac{\\lambda^k}{x^k}(1-\\frac{\\lambda}{x})^x(1-\\frac{\\lambda}{x})^{-k}  \\\\ \n",
    "& =\\lim_{x \\to \\infty} \\frac {x(x-1)...(x-k+1)}{x^k}\\frac{\\lambda^k}{k!}(1-\\frac{\\lambda}{x})^x(1-\\frac{\\lambda}{x})^{-k}  \\\\ \n",
    "& =\\frac {\\lambda^k}{k!}e^{-\\lambda}\n",
    "\\end{align}$"
   ]
  },
  {
   "cell_type": "markdown",
   "metadata": {},
   "source": [
    "## The Law of Large Numbers"
   ]
  },
  {
   "cell_type": "markdown",
   "metadata": {},
   "source": [
    "X: #Heads after flip a fair coin 100 times.\n",
    "So the TRUE expected value is: $E(X)=100*0.5 = 50$\n",
    "\n",
    "If try the experiment n times($n \\to \\infty$), then the average of the Sample will converge to the TRUE E(X).  \n",
    "\n",
    "$\\qquad \\displaystyle \\lim_{n \\to \\infty} \\overline{X_n}=\\frac{x_1+x_2+ ...}{n}=E(X)$"
   ]
  },
  {
   "cell_type": "markdown",
   "metadata": {},
   "source": [
    "## Gaussian Distribution"
   ]
  },
  {
   "cell_type": "markdown",
   "metadata": {},
   "source": [
    "$\\qquad f(x)=\\frac{1}{\\sqrt {2 \\pi \\sigma^2} }e^{-\\frac{1}{2}{(\\frac{x-\\mu}{\\sigma})}^2 }$  \n",
    "\n",
    "where:  \n",
    "\n",
    "$\\quad \\mu: \\text{mean}\\\\ \n",
    "\\quad \\sigma: \\text {standard deviation}$\n",
    "\n",
    "#### Z-Score:\n",
    "*measures how many $\\sigma$ away from from the $\\mu$*  \n",
    "\n",
    "$\\qquad Z = \\frac{x-\\mu}{\\sigma}$"
   ]
  },
  {
   "cell_type": "markdown",
   "metadata": {},
   "source": [
    "![image.png](./imgs/normalDistribution.png)"
   ]
  },
  {
   "cell_type": "markdown",
   "metadata": {},
   "source": [
    "### Empirical Rule (aka. 68-95-99.7)\n",
    "- $P(-\\sigma \\leq X \\leq \\sigma)=68\\%$  \n",
    "- $P(-2\\sigma \\leq X \\leq 2\\sigma)=95\\%$  \n",
    "- $P(-3\\sigma \\leq X \\leq 3\\sigma)=99.7\\%$"
   ]
  },
  {
   "cell_type": "code",
   "execution_count": 2,
   "metadata": {},
   "outputs": [
    {
     "data": {
      "image/png": "[encoded data removed]",
      "text/plain": [
       "<Figure size 432x288 with 1 Axes>"
      ]
     },
     "metadata": {
      "needs_background": "light"
     },
     "output_type": "display_data"
    },
    {
     "name": "stdout",
     "output_type": "stream",
     "text": [
      "The probability of getting a number in area between 1 std: 68.2621 %\n",
      "The probability of getting a number in area between 2 std: 95.4763 %\n",
      "The probability of getting a number in area between 3 std: 99.7232 %\n"
     ]
    }
   ],
   "source": [
    "import numpy as np\n",
    "import matplotlib.pyplot as plt\n",
    "\n",
    "mu = 5\n",
    "sigma = 2\n",
    "\n",
    "S = np.random.normal(mu, sigma, 1000000)\n",
    "plt.hist(S, bins=100)\n",
    "plt.show()\n",
    "\n",
    "# Validation of 68-95-99.7 rule\n",
    "print('The probability of getting a number in area between 1 std:', 100 * np.sum((S<(mu+sigma))&(S>(mu-sigma))) / len(S), '%')\n",
    "print('The probability of getting a number in area between 2 std:', 100 * np.sum((S<(mu+2*sigma))&(S>(mu-2*sigma))) / len(S), '%')\n",
    "print('The probability of getting a number in area between 3 std:', 100 * np.sum((S<(mu+3*sigma))&(S>(mu-3*sigma))) / len(S), '%')\n"
   ]
  }
 ],
 "metadata": {
  "kernelspec": {
   "display_name": "Python 3",
   "language": "python",
   "name": "python3"
  },
  "language_info": {
   "codemirror_mode": {
    "name": "ipython",
    "version": 3
   },
   "file_extension": ".py",
   "mimetype": "text/x-python",
   "name": "python",
   "nbconvert_exporter": "python",
   "pygments_lexer": "ipython3",
   "version": "3.6.7"
  }
 },
 "nbformat": 4,
 "nbformat_minor": 2
}
