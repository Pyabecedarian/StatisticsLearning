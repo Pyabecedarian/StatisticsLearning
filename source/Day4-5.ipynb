{
 "cells": [
  {
   "cell_type": "markdown",
   "metadata": {},
   "source": [
    "# Day 4"
   ]
  },
  {
   "cell_type": "markdown",
   "metadata": {},
   "source": [
    "#### What I've Learn\n",
    "\n",
    "- Sampling Distribution with small Sample Size(n<30)\n",
    "    - t-Distribution\n",
    "        - two sided / one sided\n",
    "        - degree of freedom\n",
    "\n",
    "- Hypothesis Test\n",
    "    - Null Hypothesis($H_0$)\n",
    "    - Alternative Hypothesis($H_1$)\n",
    "    - One-tailed / Two-tailed Test\n",
    "\n",
    "- P-Value\n",
    "- Z-Statistic & t-Statistic\n",
    "- Difference of Random Variables\n",
    "    - Expected Value\n",
    "    - Variance\n"
   ]
  },
  {
   "cell_type": "markdown",
   "metadata": {},
   "source": [
    "## t-Distribution"
   ]
  },
  {
   "cell_type": "markdown",
   "metadata": {},
   "source": [
    "Recall the Law of Large Number that the Sampling Distribution tend to be Gaussian Distribution when n is large. It turns out that if $n \\geq 30$, then Gaussian Distribution is a good approximation. But when $n < 30$, the Sampling Distribution then be so-called \"t-Distribution\", which shaped like a Bell Curve with fatter tails.\n",
    "\n",
    "All stuff is the same but no longer use a Z-table, but a t-table."
   ]
  },
  {
   "cell_type": "markdown",
   "metadata": {},
   "source": [
    "## Hypothesis Test"
   ]
  },
  {
   "cell_type": "markdown",
   "metadata": {},
   "source": [
    "*Hypothesis Test is a statistical inference method whereby an anlytst tests an assumption regarding a population paramter. It is the use of statistics to determine the probability that a given hypothesis is true.*\n",
    "\n",
    "Commonly, the method proposes two opposite hypothesis:   \n",
    "- Null Hypothesis(the Observation are results of pure chance)\n",
    "- Alternative Hypothesis(the Observation shows real effect combined with a component of chance variation)\n",
    "\n",
    "To accept either hypothesis, one could identify a test Sample and compute P-value, which is the probability that the test Sample is at least \n",
    "as significant as the one observed would be obtained assuming the Null Hypothesis is true(by using Law of Large Number). Then compare the p-value with some pre-defined \"Significance Value $\\alpha$\", if $p \\leq \\alpha$, that the observed effect is statistically significant, reject $H_0$ and accept $H_1$.  \n",
    "\n",
    "\n",
    "#### Steps:\n",
    "- Formulate the Null Hypothesis $H_0$ that the observation has no effect to population, it purly results by chance; And the Alternative Hypothesis $H_1$ that the observation do affect the results.\n",
    "- Identipy a test Sample, compute $\\overline{X} \\, and \\, S_{n-1}$\n",
    "- compute p-value $p$\n",
    "- compare $p$ and $\\alpha$ or \n",
    "- reject or accept\n",
    "\n",
    "\n",
    "#### One-tailed or Two-tailed\n",
    "*Consider one side or both side*\n",
    "\n",
    "\n",
    "####  Z-statistic  &  t-statistic\n",
    "Both are the same thing except z-statistic are used when the Sample Size is greater than 30(such case the sampling distribution is Gaussian Distribution, otherwise a t-Distribution in small Sample Size case).\n",
    "\n",
    "$\\frac{\\overline{X} - \\mu}{\\sigma} = \\frac {\\overline{X} - \\mu}{\\frac{S_{n-1}}{\\sqrt{n}}} = \\begin {cases} Z-statistic \\quad n \\geq 30 \\\\ \n",
    "t-statistic \\quad n \\leq 30 \\end {cases}$\n",
    "\n",
    "\n",
    "#### Type 1 Error  \n",
    "*Rejecting the $H_0$ even though it is true.*  \n",
    "Assuming $H_0$ is true, one can determine the threshold (p) of getting an example been that extreme or more, then we can say the probability of null hypothesis could still happen is $p$. "
   ]
  },
  {
   "cell_type": "markdown",
   "metadata": {},
   "source": [
    "## Difference of Random Variables"
   ]
  },
  {
   "cell_type": "markdown",
   "metadata": {},
   "source": [
    "Let $Z = X - Y, \\quad where \\: \\text{ X, Y are RV. and X, Y are independent}$  \n",
    "thus Z is also a RV., and:   \n",
    "\n",
    "$\\qquad E(Z) = E(X) - E(Y) = \\mu_{\\overline{Z}}$  \n",
    "\n",
    "$\\qquad Var(Z) = Var(X) + Var(Y) = \\sigma_{\\overline{X}}^2 + \\sigma_{\\overline{Y}}^2$\n",
    "\n",
    "\n",
    "Think of $X$ and $Y$ as Samples from population, then $Z$ is also a Sample, thus the Sampling Distribution of $\\mu_{\\overline{Z}}$ is normal, while  \n",
    "\n",
    "$\\qquad \\mu_{\\overline{Z}} = \\mu_{\\overline{X}} - \\mu_{\\overline{Y}}$  \n",
    "\n",
    "\n",
    "$\\qquad \\begin {align} \\sigma_{\\overline{Z}} &= \\sqrt {\\sigma_{\\overline{X}}^2 + \\sigma_{\\overline{Y}}^2}  \\\\ \n",
    "&= \\sqrt {\\frac{S_X^2}{n} + \\frac{S_Y^2}{m}} \\end{align}$"
   ]
  },
  {
   "cell_type": "code",
   "execution_count": null,
   "metadata": {},
   "outputs": [],
   "source": []
  }
 ],
 "metadata": {
  "kernelspec": {
   "display_name": "Python 3",
   "language": "python",
   "name": "python3"
  },
  "language_info": {
   "codemirror_mode": {
    "name": "ipython",
    "version": 3
   },
   "file_extension": ".py",
   "mimetype": "text/x-python",
   "name": "python",
   "nbconvert_exporter": "python",
   "pygments_lexer": "ipython3",
   "version": "3.6.7"
  }
 },
 "nbformat": 4,
 "nbformat_minor": 2
}
