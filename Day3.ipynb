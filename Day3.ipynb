{
 "cells": [
  {
   "cell_type": "markdown",
   "metadata": {},
   "source": [
    "# Day 3"
   ]
  },
  {
   "cell_type": "markdown",
   "metadata": {},
   "source": [
    "#### What I've learnt\n",
    "- The Central Limit Theorem\n",
    "- Skew\n",
    "- Kurtosis\n",
    "- Confidence Interval"
   ]
  },
  {
   "cell_type": "markdown",
   "metadata": {},
   "source": [
    "## The Central Limit Theorem"
   ]
  },
  {
   "cell_type": "markdown",
   "metadata": {},
   "source": [
    "To evaluate ($\\mu \\, or \\, \\sigma$) an original distribution, whatever kind of distribution it was, discrete or conituous, uniformly distributed or any wacky distribution, one can sample the outcomes from original (with Sample Size: n) and take the MEAN, then after do the trail many times, the \"Sampling Distribution of the Sample Mean\" may apparent to be a Gaussian Distribution, with whose MEAN does exactly equal to the original Mean and Variance be inverse proportional to the Sample Size and original Variance.\n",
    "\n",
    "1. $\\mu = \\text {Mean of Sampling Distribition}$  \n",
    "\n",
    "\n",
    "2. $\\sigma^2 = \\frac {\\sigma_{\\overline{X}}^2}{n}$\n",
    "\n",
    "\n",
    "3. the larger the n, the better the distribution(more normal)\n",
    "\n",
    "<br>\n",
    "\n",
    "[Sampling Distribution_Demo](http://onlinestatbook.com/stat_sim/sampling_dist/index.html)"
   ]
  },
  {
   "cell_type": "markdown",
   "metadata": {},
   "source": [
    "## Skewness & Kurtosis"
   ]
  },
  {
   "cell_type": "markdown",
   "metadata": {},
   "source": [
    "### Skewness\n",
    "\n",
    "Skewness measures how symmetical(or how normal) a distribution is.\n",
    "- if =0, the data distribute evenly on both sides centered at the MEAN\n",
    "- if >0, the data distribution has larger tail to the right\n",
    "- if <0, the data distribution has larger tail to the left\n",
    "\n",
    "### Kurtosis\n",
    "\n",
    "Kurtosis meaures how steep or smooth a distribution is.\n",
    "- if >0, the distribution would have fatter tails and pointy peek\n",
    "- if <0, the distribution would have smaller tails but smoother on the middle"
   ]
  },
  {
   "cell_type": "markdown",
   "metadata": {},
   "source": [
    "## Expected Value and Variance of Bernoulli Distribution"
   ]
  },
  {
   "cell_type": "markdown",
   "metadata": {},
   "source": [
    "Let $p$ is the probability of success, then  \n",
    "\n",
    "$E(X)=p \\\\\n",
    "\\quad \\sigma^2 = p(1-p)$"
   ]
  },
  {
   "cell_type": "markdown",
   "metadata": {},
   "source": [
    "## Confidence Interval"
   ]
  },
  {
   "cell_type": "markdown",
   "metadata": {},
   "source": [
    "It's impossible to count each member in a population to get Population Mean&Variance. One way to do that is to sample the population(Sample Size: n). The Law of Limit Theorem tells:  \n",
    "$\\qquad \\mu_{\\overline{X}} = \\mu$  \n",
    "\n",
    "$\\qquad \\sigma_{\\overline{X}} = \\frac {\\sigma}{\\sqrt{n}}$\n",
    "\n",
    "With the fact that the actual $\\sigma$ is unachievable, but Non-bias Variance is a way to approximate:  \n",
    "$\\qquad \\sigma \\approx S$\n",
    "\n",
    "A common way to say that with 95% confidence that the Population Mean $\\mu$ (same thing as $\\mu_{\\overline{X}}$) is within some interval of Sampling Mean $\\overline{X}$.\n",
    "\n",
    "In an other word, find the $2\\sigma$ interval around $\\overline{X}$.\n",
    "\n",
    "Steps to find Confidence Interval:\n",
    "- Sample the Population (n > 30)\n",
    "- Calculate Sample Mean: $\\quad \\mu_{\\overline{X}}$\n",
    "- Caculate Sample Variance: $\\quad S^2_{n-1}$\n",
    "- Caculate Sampling Distribution Standard Deviation $\\sigma_{\\overline{X}}$ by approximating Population Variance $\\sigma^2$ using Sample Variance $S^2_{n-1}$\n",
    "    - $\\sigma_{\\overline{X}} = \\sqrt{ \\frac{\\sigma^2}{n} } = \\frac {S_{n-1}}{\\sqrt {n}}$\n",
    "- Check Z-score Table, find how many standard deviation(eg. 2.58) matches the confidence (eg. 95% or 99%)\n",
    "- So one can say that 95% confidence that the Sampling Mean $\\overline(X)$ is within the interval($2.58*\\sigma_{\\overline{X}}$) around $\\mu$; Or the same as saying \"Population Mean is within the interval around Sampling Mean.\""
   ]
  }
 ],
 "metadata": {
  "kernelspec": {
   "display_name": "Python 3",
   "language": "python",
   "name": "python3"
  },
  "language_info": {
   "codemirror_mode": {
    "name": "ipython",
    "version": 3
   },
   "file_extension": ".py",
   "mimetype": "text/x-python",
   "name": "python",
   "nbconvert_exporter": "python",
   "pygments_lexer": "ipython3",
   "version": "3.6.7"
  }
 },
 "nbformat": 4,
 "nbformat_minor": 2
}
